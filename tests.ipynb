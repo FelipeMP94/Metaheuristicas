{
 "cells": [
  {
   "cell_type": "code",
   "execution_count": 1,
   "id": "b176d5d6",
   "metadata": {},
   "outputs": [],
   "source": [
    "import numpy as np\n",
    "from  PMED_instance import PMED_instance"
   ]
  },
  {
   "cell_type": "code",
   "execution_count": 2,
   "id": "a5693295",
   "metadata": {},
   "outputs": [],
   "source": [
    "instance = PMED_instance(r'C:\\Users\\Felipe\\Projetos\\Metaheuristicas\\instances_alpha_neighbor_vns\\or-library\\pmed1.txt')"
   ]
  },
  {
   "cell_type": "code",
   "execution_count": 3,
   "id": "f48b9dde",
   "metadata": {},
   "outputs": [
    {
     "name": "stdout",
     "output_type": "stream",
     "text": [
      "100\n"
     ]
    }
   ],
   "source": [
    "print(len(instance.dist))"
   ]
  },
  {
   "cell_type": "code",
   "execution_count": 4,
   "id": "2ea853c1",
   "metadata": {},
   "outputs": [
    {
     "name": "stdout",
     "output_type": "stream",
     "text": [
      "[[  0  30  76 ... 108  77  88]\n",
      " [ 30   0  46 ... 126  95 118]\n",
      " [ 76  46   0 ...  80  49  98]\n",
      " ...\n",
      " [108 126  80 ...   0  31  80]\n",
      " [ 77  95  49 ...  31   0  49]\n",
      " [ 88 118  98 ...  80  49   0]]\n"
     ]
    }
   ],
   "source": [
    "print(instance.dist)"
   ]
  },
  {
   "cell_type": "code",
   "execution_count": null,
   "id": "f89c6320",
   "metadata": {},
   "outputs": [],
   "source": [
    " "
   ]
  }
 ],
 "metadata": {
  "kernelspec": {
   "display_name": "Python 3 (ipykernel)",
   "language": "python",
   "name": "python3"
  },
  "language_info": {
   "codemirror_mode": {
    "name": "ipython",
    "version": 3
   },
   "file_extension": ".py",
   "mimetype": "text/x-python",
   "name": "python",
   "nbconvert_exporter": "python",
   "pygments_lexer": "ipython3",
   "version": "3.11.8"
  }
 },
 "nbformat": 4,
 "nbformat_minor": 5
}
