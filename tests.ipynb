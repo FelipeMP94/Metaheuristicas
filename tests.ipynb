{
 "cells": [
  {
   "cell_type": "code",
   "execution_count": 4,
   "id": "f89c6320",
   "metadata": {},
   "outputs": [
    {
     "name": "stdout",
     "output_type": "stream",
     "text": [
      "[[0.]\n",
      " [0.]\n",
      " [0.]]\n"
     ]
    }
   ],
   "source": [
    "import numpy as np\n",
    "init_fitness = np.zeros((3,1))\n",
    "print(init_fitness)"
   ]
  },
  {
   "cell_type": "code",
   "execution_count": null,
   "id": "ccb04926",
   "metadata": {},
   "outputs": [],
   "source": [
    "def BRKAGA(instance,decoder):\n",
    "    pop_size = 1000\n",
    "    pe = 0.2\n",
    "    pm = 0.2\n",
    "    rhoe = 0.7\n",
    "    #inicializando população\n",
    "    init_pop = np.random.rand(instance.num_nodes,pop_size)\n",
    "    init_fitness = np.zeros(instance.num_nodes)\n",
    "    \n",
    "    #calculando fitness\n",
    "    for i in np.arange(len(init_pop)):\n",
    "        fit = decoder.decode(init_pop[i])\n",
    "        init_fitness[i] = fit \n",
    "        \n",
    "    sorted_fit = np.argsort(init_fitness)\n",
    "    sorted_pop = np.zeros(instance.num_nodes,pop_size)\n",
    "    for i in np.arange(len(sorted_fit)):\n",
    "        sorted_pop[i] = init_pop[sorted_fit[i]] \n",
    "        "
   ]
  }
 ],
 "metadata": {
  "kernelspec": {
   "display_name": "Python 3 (ipykernel)",
   "language": "python",
   "name": "python3"
  },
  "language_info": {
   "codemirror_mode": {
    "name": "ipython",
    "version": 3
   },
   "file_extension": ".py",
   "mimetype": "text/x-python",
   "name": "python",
   "nbconvert_exporter": "python",
   "pygments_lexer": "ipython3",
   "version": "3.11.8"
  }
 },
 "nbformat": 4,
 "nbformat_minor": 5
}
